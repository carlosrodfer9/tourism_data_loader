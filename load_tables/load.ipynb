{
 "cells": [
  {
   "cell_type": "code",
   "execution_count": 6,
   "metadata": {},
   "outputs": [
    {
     "data": {
      "text/plain": [
       "<bound method NDFrame.head of       flightNumber                     plane  dep_date dep_time  \\\n",
       "0           HTY134                       AWH  13/04/18    10:00   \n",
       "1           HTY110                       AWH  13/04/18    14:15   \n",
       "2           HTY112                       AWH  13/04/18    15:05   \n",
       "3           HTY114                       AWH  13/04/18    15:35   \n",
       "4           HTY138                       AWH  13/04/18    18:45   \n",
       "...            ...                       ...       ...      ...   \n",
       "39097      RYR5273   BOEING 737-800 WINGLETS  15/04/18    17:40   \n",
       "39098      VLG2268               AIRBUS A320  15/04/18    18:00   \n",
       "39099      IBS3948               AIRBUS A320  15/04/18    19:35   \n",
       "39100      IBE8932          CANADAIR CRJ-200  15/04/18    19:45   \n",
       "39101      VLG2506                       32A  15/04/18    19:40   \n",
       "\n",
       "                   dep_airport_name dep_airport_code dep_terminal  \\\n",
       "0            ALGECIRAS / HELIPUERTO              AEI            -   \n",
       "1                             CEUTA              JCU            -   \n",
       "2            ALGECIRAS / HELIPUERTO              AEI            -   \n",
       "3            ALGECIRAS / HELIPUERTO              AEI            -   \n",
       "4            ALGECIRAS / HELIPUERTO              AEI            -   \n",
       "...                             ...              ...          ...   \n",
       "39097             PALMA DE MALLORCA              PMI            N   \n",
       "39098             BARCELONA-EL PRAT              BCN           T1   \n",
       "39099  MADRID-BARAJAS ADOLFO SUÁREZ              MAD            4   \n",
       "39100                       ALMERIA              LEI            1   \n",
       "39101                        BILBAO              BIO            O   \n",
       "\n",
       "                              dep_status dep_weather_min dep_weather_max  ...  \\\n",
       "0      El vuelo ha despegado a las 10:03               9              16  ...   \n",
       "1           Llegada prevista a las 14:15              11              17  ...   \n",
       "2            Salida prevista a las 15:10               9              16  ...   \n",
       "3            Salida prevista a las 15:40               9              16  ...   \n",
       "4            Salida prevista a las 18:50               9              16  ...   \n",
       "...                                  ...             ...             ...  ...   \n",
       "39097  El vuelo ha despegado a las 17:41              11              21  ...   \n",
       "39098  El vuelo ha despegado a las 18:00              14              22  ...   \n",
       "39099        Salida prevista a las 19:40               7              17  ...   \n",
       "39100        Salida prevista a las 19:45              11              20  ...   \n",
       "39101        Salida prevista a las 19:40              10              19  ...   \n",
       "\n",
       "             arr_airport_name arr_airport_code arr_terminal  \\\n",
       "0                       CEUTA              JCU            -   \n",
       "1      ALGECIRAS / HELIPUERTO              AEI            -   \n",
       "2                       CEUTA              JCU            -   \n",
       "3                       CEUTA              JCU            -   \n",
       "4                       CEUTA              JCU            -   \n",
       "...                       ...              ...          ...   \n",
       "39097                 SEVILLA              SVQ            1   \n",
       "39098                 SEVILLA              SVQ            1   \n",
       "39099                 SEVILLA              SVQ            1   \n",
       "39100                 SEVILLA              SVQ            1   \n",
       "39101                 SEVILLA              SVQ            1   \n",
       "\n",
       "                               arr_status arr_weather_min arr_weather_max  \\\n",
       "0      El vuelo ha aterrizado a las 10:12              11              17   \n",
       "1             Salida prevista a las 14:35               9              16   \n",
       "2            Llegada prevista a las 15:15              11              17   \n",
       "3            Llegada prevista a las 15:45              11              17   \n",
       "4            Llegada prevista a las 18:55              11              17   \n",
       "...                                   ...             ...             ...   \n",
       "39097        Llegada prevista a las 19:06               8              19   \n",
       "39098        Llegada prevista a las 19:28               8              19   \n",
       "39099        Llegada prevista a las 20:45               8              19   \n",
       "39100        Llegada prevista a las 20:45               8              19   \n",
       "39101        Llegada prevista a las 21:00               8              19   \n",
       "\n",
       "          arr_weather_desc arr_room arr_belt            timestamp  \n",
       "0                   Lluvia       -        -   2018-04-13 10:33:45  \n",
       "1      Chubascos dispersos       -        -   2018-04-13 10:33:47  \n",
       "2                   Lluvia       -        -   2018-04-13 10:33:48  \n",
       "3                   Lluvia       -        -   2018-04-13 10:33:50  \n",
       "4                   Lluvia       -        -   2018-04-13 10:33:51  \n",
       "...                    ...      ...      ...                  ...  \n",
       "39097   Nubosidad variable        B        5  2018-04-15 18:49:23  \n",
       "39098   Nubosidad variable        B        2  2018-04-15 18:49:26  \n",
       "39099   Nubosidad variable        A        1  2018-04-15 18:49:32  \n",
       "39100   Nubosidad variable        B        5  2018-04-15 18:49:34  \n",
       "39101   Nubosidad variable        B        4  2018-04-15 18:49:39  \n",
       "\n",
       "[39102 rows x 25 columns]>"
      ]
     },
     "execution_count": 6,
     "metadata": {},
     "output_type": "execute_result"
    }
   ],
   "source": [
    "import pandas as pd\n",
    "data = pd.read_csv(\"C:/Users/carlo/Documents/Master_BigData/2_cuatrimestre/TFM/Repo/DataGenerator/data/infovuelos_sample.csv\", sep=\";\", encoding='utf-8')\n"
   ]
  },
  {
   "cell_type": "code",
   "execution_count": null,
   "metadata": {},
   "outputs": [],
   "source": []
  },
  {
   "cell_type": "code",
   "execution_count": null,
   "metadata": {},
   "outputs": [],
   "source": []
  }
 ],
 "metadata": {
  "kernelspec": {
   "display_name": "Python 3",
   "language": "python",
   "name": "python3"
  },
  "language_info": {
   "codemirror_mode": {
    "name": "ipython",
    "version": 3
   },
   "file_extension": ".py",
   "mimetype": "text/x-python",
   "name": "python",
   "nbconvert_exporter": "python",
   "pygments_lexer": "ipython3",
   "version": "3.10.14"
  }
 },
 "nbformat": 4,
 "nbformat_minor": 2
}
